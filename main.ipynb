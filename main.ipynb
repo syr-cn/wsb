{
 "cells": [
  {
   "cell_type": "code",
   "execution_count": 1,
   "metadata": {},
   "outputs": [],
   "source": [
    "import data.dataloader\n",
    "import pandas as pd\n",
    "import numpy as np"
   ]
  },
  {
   "cell_type": "code",
   "execution_count": 2,
   "metadata": {},
   "outputs": [],
   "source": [
    "dl=data.dataloader.Dataloader()\n",
    "trainx=dl.getx()\n",
    "trainy=dl.gety()"
   ]
  },
  {
   "cell_type": "code",
   "execution_count": 6,
   "metadata": {},
   "outputs": [
    {
     "data": {
      "text/plain": "['GME let’s go baby',\n 'GME let’s go baby',\n 'It is your 8:00 meme update, it is now 12:00 market hour with PLTR climbing up out to hell trying to reach it’s open while GME stays memeing safely at a solid $18. All the other stocks r irrelevant',\n 'It is your 8:00 meme update, it is now 12:00 market hour with PLTR climbing up out to hell trying to reach it’s open while GME stays memeing safely at a solid $18. All the other stocks r irrelevant',\n 'No brainer buy on the GME dip 🏦',\n 'No brainer buy on the GME dip 🏦',\n '💎handed the fuck outta GME.  Worked so far.',\n '💎handed the fuck outta GME.  Worked so far.',\n '\"Omg why isn\\'t the GME squeeze happening the day after I read about it?!?\"\\n\\n- half of WSB',\n '\"Omg why isn\\'t the GME squeeze happening the day after I read about it?!?\"\\n\\n- half of WSB']"
     },
     "execution_count": 6,
     "metadata": {},
     "output_type": "execute_result"
    }
   ],
   "source": [
    "[i for i in trainx['body'][:10]]"
   ]
  },
  {
   "cell_type": "code",
   "execution_count": 1,
   "metadata": {},
   "outputs": [
    {
     "name": "stdout",
     "output_type": "stream",
     "text": [
      "[138, 9, 72, 2345]\n"
     ]
    }
   ],
   "source": [
    "import model\n",
    "\n",
    "net=model.SentenceExtractor()"
   ]
  },
  {
   "cell_type": "code",
   "execution_count": null,
   "metadata": {},
   "outputs": [],
   "source": []
  }
 ],
 "metadata": {
  "kernelspec": {
   "display_name": "Python 3.8.5 64-bit ('base': conda)",
   "name": "python385jvsc74a57bd0c3264eb7e2039b764415090ca3215295b24c53963b4901f1c075f4ca7ad70ff9"
  },
  "language_info": {
   "codemirror_mode": {
    "name": "ipython",
    "version": 3
   },
   "file_extension": ".py",
   "mimetype": "text/x-python",
   "name": "python",
   "nbconvert_exporter": "python",
   "pygments_lexer": "ipython3",
   "version": "3.8.5"
  },
  "orig_nbformat": 2
 },
 "nbformat": 4,
 "nbformat_minor": 2
}