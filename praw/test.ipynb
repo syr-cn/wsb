{
 "metadata": {
  "language_info": {
   "codemirror_mode": {
    "name": "ipython",
    "version": 3
   },
   "file_extension": ".py",
   "mimetype": "text/x-python",
   "name": "python",
   "nbconvert_exporter": "python",
   "pygments_lexer": "ipython3",
   "version": "3.8.5"
  },
  "orig_nbformat": 2,
  "kernelspec": {
   "name": "python385jvsc74a57bd0c3264eb7e2039b764415090ca3215295b24c53963b4901f1c075f4ca7ad70ff9",
   "display_name": "Python 3.8.5 64-bit ('base': conda)"
  }
 },
 "nbformat": 4,
 "nbformat_minor": 2,
 "cells": [
  {
   "cell_type": "code",
   "execution_count": 2,
   "metadata": {},
   "outputs": [],
   "source": [
    "import praw\n",
    "import os\n",
    "os.environ['HTTP_PROXY'] = os.environ['HTTPS_PROXY'] = 'http://localhost:12333'\n",
    "\n",
    "reddit = praw.Reddit(\"bot1\", config_interpolation=\"basic\")\n"
   ]
  },
  {
   "cell_type": "code",
   "execution_count": 11,
   "metadata": {},
   "outputs": [],
   "source": [
    "hot_posts = reddit.subreddit('wallstreetbets').hot(limit=10)\n",
    "hot_ones=list(hot_posts)\n",
    "for post in hot_posts:\n",
    "    print(post.title, end='\\n\\n')"
   ]
  },
  {
   "cell_type": "code",
   "execution_count": 12,
   "metadata": {},
   "outputs": [
    {
     "output_type": "stream",
     "name": "stdout",
     "text": [
      "<class 'praw.models.reddit.submission.Submission'>\n"
     ]
    }
   ],
   "source": [
    "print(type(hot_ones[0]))"
   ]
  },
  {
   "cell_type": "code",
   "execution_count": 77,
   "metadata": {},
   "outputs": [],
   "source": [
    "cmt=hot_ones[0]\n",
    "i=cmt.comments[0]"
   ]
  },
  {
   "cell_type": "code",
   "execution_count": 85,
   "metadata": {},
   "outputs": [
    {
     "output_type": "stream",
     "name": "stdout",
     "text": [
      "427\n"
     ]
    }
   ],
   "source": [
    "cmt.comments.replace_more(limit=0)\n",
    "print(len(cmt.comments))"
   ]
  },
  {
   "cell_type": "code",
   "execution_count": 61,
   "metadata": {},
   "outputs": [
    {
     "output_type": "stream",
     "name": "stdout",
     "text": [
      "<class 'praw.models.reddit.submission.Submission'> \n\n\nYour weekend discussion thread. Please keep the shitposting to a maximum!\n\nFollow [@Official_WSB](https://twitter.com/Official_WSB) on Twitter, all other accounts are impersonators.\n450\n450\n19612\nOPINION_IS_UNPOPULAR\nWeekend Discussion Thread for the Weekend of April 30, 2021\n"
     ]
    }
   ],
   "source": [
    "print(type(cmt),'\\n\\n')\n",
    "print(cmt.selftext)\n",
    "print(cmt.ups)\n",
    "print(cmt.score)\n",
    "print(cmt.num_comments)\n",
    "print(cmt.author)\n",
    "print(cmt.title)"
   ]
  },
  {
   "cell_type": "code",
   "execution_count": 82,
   "metadata": {},
   "outputs": [
    {
     "output_type": "stream",
     "name": "stdout",
     "text": [
      "<class 'praw.models.reddit.comment.Comment'> \n\n\ntendeeznuts\nBABE - the mortgage company called today, theres a fucking lien on the house!! Some guy named Charles Schwab?!?\n\n&#x200B;\n\n*Whaaaaaaaat thats crazy*\n93\n"
     ]
    }
   ],
   "source": [
    "print(type(i),'\\n\\n')\n",
    "print(i.author)#用户\n",
    "print(i.body)#文本\n",
    "print(i.ups)\n",
    "j=i.replies[0]"
   ]
  }
 ]
}