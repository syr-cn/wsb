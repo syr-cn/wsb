{
 "metadata": {
  "language_info": {
   "codemirror_mode": {
    "name": "ipython",
    "version": 3
   },
   "file_extension": ".py",
   "mimetype": "text/x-python",
   "name": "python",
   "nbconvert_exporter": "python",
   "pygments_lexer": "ipython3",
   "version": "3.8.5"
  },
  "orig_nbformat": 2,
  "kernelspec": {
   "name": "python385jvsc74a57bd0c3264eb7e2039b764415090ca3215295b24c53963b4901f1c075f4ca7ad70ff9",
   "display_name": "Python 3.8.5 64-bit ('base': conda)"
  }
 },
 "nbformat": 4,
 "nbformat_minor": 2,
 "cells": [
  {
   "source": [
    "**By SYR-XJTU**"
   ],
   "cell_type": "markdown",
   "metadata": {}
  },
  {
   "cell_type": "code",
   "execution_count": 1,
   "metadata": {},
   "outputs": [],
   "source": [
    "# Imports\n",
    "import pandas as pd\n",
    "from pmaw import PushshiftAPI\n",
    "import os\n",
    "os.environ['HTTP_PROXY'] = os.environ['HTTPS_PROXY'] = 'http://localhost:12333'\n",
    "\n",
    "api = PushshiftAPI()"
   ]
  },
  {
   "cell_type": "code",
   "execution_count": 16,
   "metadata": {},
   "outputs": [],
   "source": [
    "# Search Parameters\n",
    "import datetime as dt\n",
    "\n",
    "before = int(dt.datetime(2021,4,1,0,0).timestamp())\n",
    "after = int(dt.datetime(2020,12,1,0,0).timestamp())\n",
    "\n",
    "q='GME'\n",
    "subreddit='wallstreetbets'\n",
    "sort_type='score'#'created_utc', 'score', 'num_comments'\n",
    "\n",
    "fields=(\n",
    "    'created_utc',\n",
    "    'full_link',\n",
    "    'id',\n",
    "    'num_comments',\n",
    "    'num_crossposts',\n",
    "    'score',\n",
    "    'selftext',\n",
    "    'title',\n",
    "    'upvote_ratio'\n",
    "    )\n",
    "\n",
    "submission_limit=200\n",
    "comment_limit=50"
   ]
  },
  {
   "cell_type": "code",
   "execution_count": 3,
   "metadata": {},
   "outputs": [
    {
     "output_type": "stream",
     "name": "stdout",
     "text": [
      "Response cache key: 211aff2dfe2aa0c76bb894e3bed29cf5\n",
      "Not all PushShift shards are active. Query results may be incomplete.\n",
      "Not all PushShift shards are active. Query results may be incomplete.\n",
      "Total:: Success Rate: 100.00% - Requests: 4 - Batches: 1 - Items Remaining: 0\n",
      "File Checkpoint 1:: Caching 200 Responses\n"
     ]
    }
   ],
   "source": [
    "# Get submissions under r/wallstreetbets, includes GME\n",
    "submissions = api.search_submissions(\n",
    "    after=after,\n",
    "    before=before,\n",
    "    fields=fields,\n",
    "    limit=submission_limit,\n",
    "    mem_safe=True,\n",
    "    num_comments='>100',\n",
    "    q=q,\n",
    "    safe_exit=True,\n",
    "    sort_type=sort_type,\n",
    "    subreddit=subreddit\n",
    ")"
   ]
  },
  {
   "cell_type": "code",
   "execution_count": 17,
   "metadata": {},
   "outputs": [
    {
     "output_type": "stream",
     "name": "stdout",
     "text": [
      "Response cache key: 69bdbe02aed55e47ab22ea2afd42b935\n",
      "Not all PushShift shards are active. Query results may be incomplete.\n",
      "Not all PushShift shards are active. Query results may be incomplete.\n",
      "Total:: Success Rate: 100.00% - Requests: 1 - Batches: 1 - Items Remaining: 0\n",
      "File Checkpoint 1:: Caching 50 Responses\n"
     ]
    }
   ],
   "source": [
    "# Get comments under r/wallstreetbets, includes GME\n",
    "comments = api.search_comments(\n",
    "    after=after,\n",
    "    before=before,\n",
    "    # fields=fields,\n",
    "    limit=comment_limit,\n",
    "    mem_safe=True,\n",
    "    q=q,\n",
    "    safe_exit=True,\n",
    "    sort_type=sort_type,\n",
    "    subreddit=subreddit\n",
    ")"
   ]
  },
  {
   "cell_type": "code",
   "execution_count": null,
   "metadata": {},
   "outputs": [],
   "source": []
  }
 ]
}