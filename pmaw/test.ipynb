{
 "metadata": {
  "language_info": {
   "codemirror_mode": {
    "name": "ipython",
    "version": 3
   },
   "file_extension": ".py",
   "mimetype": "text/x-python",
   "name": "python",
   "nbconvert_exporter": "python",
   "pygments_lexer": "ipython3",
   "version": "3.8.5"
  },
  "orig_nbformat": 2,
  "kernelspec": {
   "name": "python385jvsc74a57bd0c3264eb7e2039b764415090ca3215295b24c53963b4901f1c075f4ca7ad70ff9",
   "display_name": "Python 3.8.5 64-bit ('base': conda)"
  }
 },
 "nbformat": 4,
 "nbformat_minor": 2,
 "cells": [
  {
   "cell_type": "code",
   "execution_count": 3,
   "metadata": {},
   "outputs": [],
   "source": [
    "import pandas as pd\n",
    "from pmaw import PushshiftAPI\n",
    "import os\n",
    "os.environ['HTTP_PROXY'] = os.environ['HTTPS_PROXY'] = 'http://localhost:12333'\n"
   ]
  },
  {
   "cell_type": "code",
   "execution_count": 4,
   "metadata": {},
   "outputs": [],
   "source": [
    "import datetime as dt\n",
    "before = int(dt.datetime(2021,4,1,0,0).timestamp())\n",
    "after = int(dt.datetime(2020,12,1,0,0).timestamp())"
   ]
  },
  {
   "cell_type": "code",
   "execution_count": 12,
   "metadata": {},
   "outputs": [],
   "source": [
    "api = PushshiftAPI()"
   ]
  },
  {
   "cell_type": "code",
   "execution_count": 6,
   "metadata": {},
   "outputs": [
    {
     "output_type": "stream",
     "name": "stdout",
     "text": [
      "Checkpoint:: Success Rate: 100.00% - Requests: 100 - Batches: 10 - Items Remaining: 200\n",
      "Total:: Success Rate: 100.00% - Requests: 102 - Batches: 11 - Items Remaining: 0\n",
      "Retrieved 10000 comments from Pushshift\n"
     ]
    }
   ],
   "source": [
    "subreddit=\"wallstreetbets\"\n",
    "limit=10000\n",
    "comments = api.search_comments(subreddit=subreddit, limit=limit, before=before, after=after)\n",
    "print(f'Retrieved {len(comments)} comments from Pushshift')"
   ]
  },
  {
   "cell_type": "code",
   "execution_count": null,
   "metadata": {},
   "outputs": [],
   "source": [
    "api.search_submission_comment_ids()"
   ]
  },
  {
   "cell_type": "code",
   "execution_count": 9,
   "metadata": {},
   "outputs": [
    {
     "output_type": "execute_result",
     "data": {
      "text/plain": [
       "  all_awardings associated_award          author  \\\n",
       "0            []             None       [deleted]   \n",
       "1            []             None   RomanOctavius   \n",
       "2            []             None      iamchromes   \n",
       "3            []             None         Cj96734   \n",
       "4            []             None  ButtersDaBeast   \n",
       "\n",
       "  author_flair_background_color                author_flair_css_class  \\\n",
       "0                                                                None   \n",
       "1                                5b951270-9b43-11e8-8a57-0e532bbfe7e8   \n",
       "2                                                                None   \n",
       "3                                                                None   \n",
       "4                                                                None   \n",
       "\n",
       "  author_flair_template_id author_flair_text author_flair_text_color awarders  \\\n",
       "0                     None              None                    dark       []   \n",
       "1                     None       Good Things                    dark       []   \n",
       "2                     None       \u001b201219:1:1                    dark       []   \n",
       "3                     None       \u001b201022:3:1                    dark       []   \n",
       "4                     None       \u001b201202:3:1                    dark       []   \n",
       "\n",
       "                                                body  ...  \\\n",
       "0                                          [deleted]  ...   \n",
       "1                   Gloryhole  booth at Action Video  ...   \n",
       "2  Holy shit fb was almost 300 at some point. Tsl...  ...   \n",
       "3                                    ugh. it's awful  ...   \n",
       "4                                     Kill confirmed  ...   \n",
       "\n",
       "  total_awards_received treatment_tags                author_flair_richtext  \\\n",
       "0                     0             []                                  NaN   \n",
       "1                     0             []  [{'e': 'text', 't': 'Good Things'}]   \n",
       "2                     0             []  [{'e': 'text', 't': '\u001b201219:1:1'}]   \n",
       "3                     0             []  [{'e': 'text', 't': '\u001b201022:3:1'}]   \n",
       "4                     0             []  [{'e': 'text', 't': '\u001b201202:3:1'}]   \n",
       "\n",
       "  author_flair_type author_fullname  author_patreon_flair author_premium  \\\n",
       "0               NaN             NaN                   NaN            NaN   \n",
       "1          richtext      t2_1cyi7hq                 False          False   \n",
       "2          richtext      t2_nar3zra                 False          False   \n",
       "3          richtext      t2_mwm99yy                 False           True   \n",
       "4          richtext        t2_t9qdd                 False          False   \n",
       "\n",
       "   author_cakeday  distinguished media_metadata  \n",
       "0             NaN            NaN            NaN  \n",
       "1             NaN            NaN            NaN  \n",
       "2             NaN            NaN            NaN  \n",
       "3             NaN            NaN            NaN  \n",
       "4             NaN            NaN            NaN  \n",
       "\n",
       "[5 rows x 38 columns]"
      ],
      "text/html": "<div>\n<style scoped>\n    .dataframe tbody tr th:only-of-type {\n        vertical-align: middle;\n    }\n\n    .dataframe tbody tr th {\n        vertical-align: top;\n    }\n\n    .dataframe thead th {\n        text-align: right;\n    }\n</style>\n<table border=\"1\" class=\"dataframe\">\n  <thead>\n    <tr style=\"text-align: right;\">\n      <th></th>\n      <th>all_awardings</th>\n      <th>associated_award</th>\n      <th>author</th>\n      <th>author_flair_background_color</th>\n      <th>author_flair_css_class</th>\n      <th>author_flair_template_id</th>\n      <th>author_flair_text</th>\n      <th>author_flair_text_color</th>\n      <th>awarders</th>\n      <th>body</th>\n      <th>...</th>\n      <th>total_awards_received</th>\n      <th>treatment_tags</th>\n      <th>author_flair_richtext</th>\n      <th>author_flair_type</th>\n      <th>author_fullname</th>\n      <th>author_patreon_flair</th>\n      <th>author_premium</th>\n      <th>author_cakeday</th>\n      <th>distinguished</th>\n      <th>media_metadata</th>\n    </tr>\n  </thead>\n  <tbody>\n    <tr>\n      <th>0</th>\n      <td>[]</td>\n      <td>None</td>\n      <td>[deleted]</td>\n      <td></td>\n      <td>None</td>\n      <td>None</td>\n      <td>None</td>\n      <td>dark</td>\n      <td>[]</td>\n      <td>[deleted]</td>\n      <td>...</td>\n      <td>0</td>\n      <td>[]</td>\n      <td>NaN</td>\n      <td>NaN</td>\n      <td>NaN</td>\n      <td>NaN</td>\n      <td>NaN</td>\n      <td>NaN</td>\n      <td>NaN</td>\n      <td>NaN</td>\n    </tr>\n    <tr>\n      <th>1</th>\n      <td>[]</td>\n      <td>None</td>\n      <td>RomanOctavius</td>\n      <td></td>\n      <td>5b951270-9b43-11e8-8a57-0e532bbfe7e8</td>\n      <td>None</td>\n      <td>Good Things</td>\n      <td>dark</td>\n      <td>[]</td>\n      <td>Gloryhole  booth at Action Video</td>\n      <td>...</td>\n      <td>0</td>\n      <td>[]</td>\n      <td>[{'e': 'text', 't': 'Good Things'}]</td>\n      <td>richtext</td>\n      <td>t2_1cyi7hq</td>\n      <td>False</td>\n      <td>False</td>\n      <td>NaN</td>\n      <td>NaN</td>\n      <td>NaN</td>\n    </tr>\n    <tr>\n      <th>2</th>\n      <td>[]</td>\n      <td>None</td>\n      <td>iamchromes</td>\n      <td></td>\n      <td>None</td>\n      <td>None</td>\n      <td>\u001b201219:1:1</td>\n      <td>dark</td>\n      <td>[]</td>\n      <td>Holy shit fb was almost 300 at some point. Tsl...</td>\n      <td>...</td>\n      <td>0</td>\n      <td>[]</td>\n      <td>[{'e': 'text', 't': '\u001b201219:1:1'}]</td>\n      <td>richtext</td>\n      <td>t2_nar3zra</td>\n      <td>False</td>\n      <td>False</td>\n      <td>NaN</td>\n      <td>NaN</td>\n      <td>NaN</td>\n    </tr>\n    <tr>\n      <th>3</th>\n      <td>[]</td>\n      <td>None</td>\n      <td>Cj96734</td>\n      <td></td>\n      <td>None</td>\n      <td>None</td>\n      <td>\u001b201022:3:1</td>\n      <td>dark</td>\n      <td>[]</td>\n      <td>ugh. it's awful</td>\n      <td>...</td>\n      <td>0</td>\n      <td>[]</td>\n      <td>[{'e': 'text', 't': '\u001b201022:3:1'}]</td>\n      <td>richtext</td>\n      <td>t2_mwm99yy</td>\n      <td>False</td>\n      <td>True</td>\n      <td>NaN</td>\n      <td>NaN</td>\n      <td>NaN</td>\n    </tr>\n    <tr>\n      <th>4</th>\n      <td>[]</td>\n      <td>None</td>\n      <td>ButtersDaBeast</td>\n      <td></td>\n      <td>None</td>\n      <td>None</td>\n      <td>\u001b201202:3:1</td>\n      <td>dark</td>\n      <td>[]</td>\n      <td>Kill confirmed</td>\n      <td>...</td>\n      <td>0</td>\n      <td>[]</td>\n      <td>[{'e': 'text', 't': '\u001b201202:3:1'}]</td>\n      <td>richtext</td>\n      <td>t2_t9qdd</td>\n      <td>False</td>\n      <td>False</td>\n      <td>NaN</td>\n      <td>NaN</td>\n      <td>NaN</td>\n    </tr>\n  </tbody>\n</table>\n<p>5 rows × 38 columns</p>\n</div>"
     },
     "metadata": {},
     "execution_count": 9
    }
   ],
   "source": [
    "comments_df = pd.DataFrame(comments)\n",
    "# preview the comments data\n",
    "comments_df.head(5)"
   ]
  },
  {
   "cell_type": "code",
   "execution_count": 10,
   "metadata": {},
   "outputs": [],
   "source": [
    "comments_df.to_csv('data.csv')"
   ]
  },
  {
   "cell_type": "code",
   "execution_count": null,
   "metadata": {},
   "outputs": [],
   "source": []
  }
 ]
}